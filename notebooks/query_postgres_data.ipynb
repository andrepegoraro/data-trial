{
 "cells": [
  {
   "cell_type": "code",
   "execution_count": 4,
   "metadata": {},
   "outputs": [
    {
     "name": "stdout",
     "output_type": "stream",
     "text": [
      "Requirement already satisfied: pandas in /opt/conda/lib/python3.11/site-packages (2.0.3)\n",
      "Collecting psycopg2-binary\n",
      "  Downloading psycopg2_binary-2.9.9-cp311-cp311-manylinux_2_17_aarch64.manylinux2014_aarch64.whl.metadata (4.4 kB)\n",
      "Requirement already satisfied: python-dateutil>=2.8.2 in /opt/conda/lib/python3.11/site-packages (from pandas) (2.8.2)\n",
      "Requirement already satisfied: pytz>=2020.1 in /opt/conda/lib/python3.11/site-packages (from pandas) (2023.3.post1)\n",
      "Requirement already satisfied: tzdata>=2022.1 in /opt/conda/lib/python3.11/site-packages (from pandas) (2023.3)\n",
      "Requirement already satisfied: numpy>=1.21.0 in /opt/conda/lib/python3.11/site-packages (from pandas) (1.24.4)\n",
      "Requirement already satisfied: six>=1.5 in /opt/conda/lib/python3.11/site-packages (from python-dateutil>=2.8.2->pandas) (1.16.0)\n",
      "Downloading psycopg2_binary-2.9.9-cp311-cp311-manylinux_2_17_aarch64.manylinux2014_aarch64.whl (2.9 MB)\n",
      "\u001b[2K   \u001b[90m━━━━━━━━━━━━━━━━━━━━━━━━━━━━━━━━━━━━━━━━\u001b[0m \u001b[32m2.9/2.9 MB\u001b[0m \u001b[31m2.8 MB/s\u001b[0m eta \u001b[36m0:00:00\u001b[0ma \u001b[36m0:00:01\u001b[0m0m\n",
      "\u001b[?25hInstalling collected packages: psycopg2-binary\n",
      "Successfully installed psycopg2-binary-2.9.9\n",
      "Note: you may need to restart the kernel to use updated packages.\n"
     ]
    }
   ],
   "source": [
    "pip install pandas psycopg2-binary"
   ]
  },
  {
   "cell_type": "code",
   "execution_count": 5,
   "metadata": {},
   "outputs": [
    {
     "name": "stdout",
     "output_type": "stream",
     "text": [
      "                                         id  \\\n",
      "0      00008d3b-935a-4e0f-a5a7-b251a61ae037   \n",
      "1      00017b8c-d0ee-4137-b478-a243fc2904fb   \n",
      "2      00019146-288a-49f0-88ab-a59378cc5f72   \n",
      "3      000484d8-d5b8-479e-8bd9-dd8f49209ad7   \n",
      "4      0004cc4a-dcd9-4409-b227-8afab9db67a6   \n",
      "...                                     ...   \n",
      "16984  fff59b05-9e8b-4bd8-8738-bee5f084acf5   \n",
      "16985  fff7a5ff-068d-41e4-b70e-9857d73102a8   \n",
      "16986  fff8d9bf-1b45-48bb-8e52-af3ec851e0c5   \n",
      "16987  fffa5062-303a-4cb5-ad5e-7cc3d9021e23   \n",
      "16988  fffab992-0274-46fa-bab7-0db10755da81   \n",
      "\n",
      "                               user_created              date_created  \\\n",
      "0      88f52f6b-b3f1-4ef4-ad24-a605f568e3ef  2024-02-16T18:00:17.956Z   \n",
      "1      88f52f6b-b3f1-4ef4-ad24-a605f568e3ef  2024-02-16T17:59:46.860Z   \n",
      "2      88f52f6b-b3f1-4ef4-ad24-a605f568e3ef  2024-02-16T18:00:07.357Z   \n",
      "3      88f52f6b-b3f1-4ef4-ad24-a605f568e3ef  2024-02-16T18:00:19.323Z   \n",
      "4      88f52f6b-b3f1-4ef4-ad24-a605f568e3ef  2024-02-16T18:00:17.786Z   \n",
      "...                                     ...                       ...   \n",
      "16984  88f52f6b-b3f1-4ef4-ad24-a605f568e3ef  2024-02-16T18:00:03.204Z   \n",
      "16985  88f52f6b-b3f1-4ef4-ad24-a605f568e3ef  2024-02-16T18:00:13.452Z   \n",
      "16986  88f52f6b-b3f1-4ef4-ad24-a605f568e3ef  2024-02-16T18:00:21.969Z   \n",
      "16987  88f52f6b-b3f1-4ef4-ad24-a605f568e3ef  2024-02-16T18:00:21.581Z   \n",
      "16988  88f52f6b-b3f1-4ef4-ad24-a605f568e3ef  2024-02-16T17:59:45.997Z   \n",
      "\n",
      "      user_updated date_updated  usdot_num       complaint_category  \\\n",
      "0             None         None    3338584      Pickup and Delivery   \n",
      "1             None         None      62670                 Weighing   \n",
      "2             None         None    3100083       Shipment Documents   \n",
      "3             None         None    2428388                Insurance   \n",
      "4             None         None    3136746                  Hostage   \n",
      "...            ...          ...        ...                      ...   \n",
      "16984         None         None    3775723                Insurance   \n",
      "16985         None         None    3119036         Claim Settlement   \n",
      "16986         None         None    3422711  Estimates/Final Charges   \n",
      "16987         None         None    1434373                Insurance   \n",
      "16988         None         None    3551489  Estimates/Final Charges   \n",
      "\n",
      "       complaint_year  complaint_count  \n",
      "0                2022                4  \n",
      "1                2022                1  \n",
      "2                2021                1  \n",
      "3                2022                1  \n",
      "4                2021                2  \n",
      "...               ...              ...  \n",
      "16984            2022                2  \n",
      "16985            2023                1  \n",
      "16986            2022               36  \n",
      "16987            2022                1  \n",
      "16988            2021               13  \n",
      "\n",
      "[16989 rows x 9 columns]\n"
     ]
    },
    {
     "name": "stderr",
     "output_type": "stream",
     "text": [
      "/tmp/ipykernel_2865/2801149074.py:5: UserWarning: pandas only supports SQLAlchemy connectable (engine/connection) or database string URI or sqlite3 DBAPI2 connection. Other DBAPI2 objects are not tested. Please consider using SQLAlchemy.\n",
      "  df = pd.read_sql('select * from public.fmcsa_complaints', con=engine)\n"
     ]
    }
   ],
   "source": [
    "import pandas as pd\n",
    "import psycopg2 as pg\n",
    "\n",
    "engine = pg.connect(\"dbname='clever' user='clever' host='postgres_clever' port='5432' password='clever'\")\n",
    "df = pd.read_sql('select * from public.fmcsa_complaints', con=engine)\n",
    "\n",
    "print(df)\n"
   ]
  },
  {
   "cell_type": "code",
   "execution_count": null,
   "metadata": {},
   "outputs": [],
   "source": [
    "customer_reviews_pre_processed = pd.read_sql('select * from public.customer_reviews_escaped_filtered limit 20', con=engine)\n",
    "print(customer_reviews_pre_processed)"
   ]
  }
 ],
 "metadata": {
  "kernelspec": {
   "display_name": "Python 3 (ipykernel)",
   "language": "python",
   "name": "python3"
  },
  "language_info": {
   "codemirror_mode": {
    "name": "ipython",
    "version": 3
   },
   "file_extension": ".py",
   "mimetype": "text/x-python",
   "name": "python",
   "nbconvert_exporter": "python",
   "pygments_lexer": "ipython3",
   "version": "3.11.6"
  }
 },
 "nbformat": 4,
 "nbformat_minor": 4
}
